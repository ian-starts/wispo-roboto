{
 "cells": [
  {
   "cell_type": "code",
   "execution_count": 31,
   "metadata": {},
   "outputs": [
    {
     "name": "stdin",
     "output_type": "stream",
     "text": [
      "Enter the location here:  Rotterdam\n"
     ]
    }
   ],
   "source": [
    "import requests\n",
    "import geopy.distance\n",
    "import re\n",
    "\n",
    "URL = \"https://geocode.search.hereapi.com/v1/geocode\"\n",
    "location = input(\"Enter the location here: \") #taking user input\n",
    "api_key = '91Rke_Qm2yDiF-zEvHEJfN9-U0FKeK4bjF4I2S1Je7A' # Acquire from developer.here.com\n",
    "PARAMS = {'apikey':api_key,'q':location} \n",
    "\n",
    "# sending get request and saving the response as response object \n",
    "r = requests.get(url = URL, params = PARAMS) \n",
    "data = r.json()\n",
    "\n",
    "latitude = data['items'][0]['position']['lat']\n",
    "longitude = data['items'][0]['position']['lng']"
   ]
  },
  {
   "cell_type": "code",
   "execution_count": 19,
   "metadata": {},
   "outputs": [
    {
     "name": "stdout",
     "output_type": "stream",
     "text": [
      "777\n"
     ]
    }
   ],
   "source": [
    "# (lat,lon)\n",
    "\n",
    "coords_1 = (latitude,longitude)\n",
    "coords_2 = (45.01331, 6.12471) #coord les deux alpes\n",
    "\n",
    "print(round(geopy.distance.distance(coords_1, coords_2).km))"
   ]
  },
  {
   "cell_type": "code",
   "execution_count": 6,
   "metadata": {},
   "outputs": [
    {
     "data": {
      "text/plain": [
       "{'items': [{'title': 'Rotterdam, Zuid-Holland, Nederland',\n",
       "   'id': 'here:cm:namedplace:23055877',\n",
       "   'resultType': 'locality',\n",
       "   'localityType': 'city',\n",
       "   'address': {'label': 'Rotterdam, Zuid-Holland, Nederland',\n",
       "    'countryCode': 'NLD',\n",
       "    'countryName': 'Nederland',\n",
       "    'stateCode': 'ZH',\n",
       "    'state': 'Zuid-Holland',\n",
       "    'county': 'Rotterdam',\n",
       "    'city': 'Rotterdam',\n",
       "    'postalCode': '3011'},\n",
       "   'position': {'lat': 51.91438, 'lng': 4.48716},\n",
       "   'mapView': {'west': 3.95824,\n",
       "    'south': 51.84211,\n",
       "    'east': 4.60178,\n",
       "    'north': 52.0007},\n",
       "   'scoring': {'queryScore': 1.0, 'fieldScore': {'city': 1.0}}}]}"
      ]
     },
     "execution_count": 6,
     "metadata": {},
     "output_type": "execute_result"
    }
   ],
   "source": [
    "data"
   ]
  },
  {
   "cell_type": "code",
   "execution_count": 59,
   "metadata": {},
   "outputs": [],
   "source": [
    "def get_location(input):\n",
    "    try:\n",
    "        location = re.findall(r'dist(\\w+)', input)[0]\n",
    "    except:\n",
    "        output = \"You did not enter your text correctly. Format /dist{location} e.g. Rotterdam\"\n",
    "    \n",
    "    try:\n",
    "        URL = \"https://geocode.search.hereapi.com/v1/geocode\"\n",
    "        api_key = '91Rke_Qm2yDiF-zEvHEJfN9-U0FKeK4bjF4I2S1Je7A' # Acquire from developer.here.com\n",
    "        PARAMS = {'apikey':api_key,'q':location} \n",
    "\n",
    "        r = requests.get(url = URL, params = PARAMS) \n",
    "        data = r.json()\n",
    "\n",
    "        latitude = data['items'][0]['position']['lat']\n",
    "        longitude = data['items'][0]['position']['lng']\n",
    "        coords_1 = (latitude,longitude)\n",
    "        coords_2 = (45.01331, 6.12471) # coord les deux alpes\n",
    "        \n",
    "        output = \"You are \" + str(round(geopy.distance.distance(coords_1, coords_2).km)) + \" kilometers away from your WISPO destination: Les Deux Alpes ⛷️🏂\"\n",
    "    \n",
    "    except:\n",
    "        output = \"You did not enter a existing location. Format /dist{location} e.g. Rotterdam\"\n",
    "    \n",
    "    return output"
   ]
  },
  {
   "cell_type": "code",
   "execution_count": 60,
   "metadata": {},
   "outputs": [
    {
     "data": {
      "text/plain": [
       "'You did not enter a existing location. Format /dist{location} e.g. Rotterdam'"
      ]
     },
     "execution_count": 60,
     "metadata": {},
     "output_type": "execute_result"
    }
   ],
   "source": [
    "get_location(\"dist\")"
   ]
  },
  {
   "cell_type": "code",
   "execution_count": 64,
   "metadata": {},
   "outputs": [],
   "source": [
    "import telegram"
   ]
  },
  {
   "cell_type": "code",
   "execution_count": 73,
   "metadata": {},
   "outputs": [],
   "source": [
    "from datetime import date\n",
    "\n",
    "import requests\n",
    "import telegram\n",
    "\n",
    "# https://developer.weatherunlocked.com/documentation/skiresort/resources#response-fields\n",
    "TELEGRAM_API_KEY = \"2120742951:AAF308uoeBHAhOASiVlBBNK8VQskGfeVLbY\""
   ]
  },
  {
   "cell_type": "code",
   "execution_count": 75,
   "metadata": {},
   "outputs": [
    {
     "ename": "AttributeError",
     "evalue": "module 'telegram' has no attribute 'Bot'",
     "output_type": "error",
     "traceback": [
      "\u001b[0;31m---------------------------------------------------------------------------\u001b[0m",
      "\u001b[0;31mAttributeError\u001b[0m                            Traceback (most recent call last)",
      "\u001b[0;32m<ipython-input-75-3ff8dc2cebf3>\u001b[0m in \u001b[0;36m<module>\u001b[0;34m\u001b[0m\n\u001b[0;32m----> 1\u001b[0;31m \u001b[0mbot\u001b[0m \u001b[0;34m=\u001b[0m \u001b[0mtelegram\u001b[0m\u001b[0;34m.\u001b[0m\u001b[0mBot\u001b[0m\u001b[0;34m(\u001b[0m\u001b[0mtoken\u001b[0m\u001b[0;34m=\u001b[0m\u001b[0mTELEGRAM_API_KEY\u001b[0m\u001b[0;34m)\u001b[0m\u001b[0;34m\u001b[0m\u001b[0;34m\u001b[0m\u001b[0m\n\u001b[0m\u001b[1;32m      2\u001b[0m \u001b[0mrequest_data\u001b[0m \u001b[0;34m=\u001b[0m \u001b[0mrequest\u001b[0m\u001b[0;34m.\u001b[0m\u001b[0mget_json\u001b[0m\u001b[0;34m(\u001b[0m\u001b[0;34m)\u001b[0m\u001b[0;34m\u001b[0m\u001b[0;34m\u001b[0m\u001b[0m\n\u001b[1;32m      3\u001b[0m \u001b[0mprint\u001b[0m\u001b[0;34m(\u001b[0m\u001b[0mrequest_data\u001b[0m\u001b[0;34m)\u001b[0m\u001b[0;34m\u001b[0m\u001b[0;34m\u001b[0m\u001b[0m\n",
      "\u001b[0;31mAttributeError\u001b[0m: module 'telegram' has no attribute 'Bot'"
     ]
    }
   ],
   "source": [
    "bot = telegram.Bot(token=TELEGRAM_API_KEY)\n",
    "request_data = request.get_json()\n",
    "print(request_data)"
   ]
  },
  {
   "cell_type": "code",
   "execution_count": 76,
   "metadata": {},
   "outputs": [],
   "source": [
    "def main():\n",
    "    bot = telegram.Bot(token=TELEGRAM_API_KEY)\n",
    "\n",
    "    resp = get_snow_height(RESORT_ID, WEATHER_API_ID, WEATHER_API_KEY)\n",
    "\n",
    "    send_message(bot, make_forcast(resp.json()), TELEGRAM_CHAT_ID)"
   ]
  },
  {
   "cell_type": "code",
   "execution_count": null,
   "metadata": {},
   "outputs": [],
   "source": []
  }
 ],
 "metadata": {
  "kernelspec": {
   "display_name": "Python 3",
   "language": "python",
   "name": "python3"
  },
  "language_info": {
   "codemirror_mode": {
    "name": "ipython",
    "version": 3
   },
   "file_extension": ".py",
   "mimetype": "text/x-python",
   "name": "python",
   "nbconvert_exporter": "python",
   "pygments_lexer": "ipython3",
   "version": "3.8.5"
  }
 },
 "nbformat": 4,
 "nbformat_minor": 4
}
